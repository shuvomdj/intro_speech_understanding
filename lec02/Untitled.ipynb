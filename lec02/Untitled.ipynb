{
 "cells": [
  {
   "cell_type": "code",
   "execution_count": 1,
   "id": "bd61f31a-4712-46f0-9255-447d9a568121",
   "metadata": {},
   "outputs": [],
   "source": [
    "a = 'hello'\n",
    "b = \"hi there\""
   ]
  },
  {
   "cell_type": "code",
   "execution_count": 2,
   "id": "87530781-9861-4b8d-a7f8-1fafa2a5c31e",
   "metadata": {},
   "outputs": [
    {
     "name": "stdout",
     "output_type": "stream",
     "text": [
      "hello\n"
     ]
    }
   ],
   "source": [
    "print(a)"
   ]
  },
  {
   "cell_type": "code",
   "execution_count": 3,
   "id": "e711e8fe-aa59-4cb8-afb9-54e0a26c9d99",
   "metadata": {},
   "outputs": [
    {
     "name": "stdout",
     "output_type": "stream",
     "text": [
      "hi there\n"
     ]
    }
   ],
   "source": [
    "print(b)"
   ]
  },
  {
   "cell_type": "code",
   "execution_count": 4,
   "id": "2df6dbe4-2cff-4824-8659-91b11dd5246a",
   "metadata": {},
   "outputs": [
    {
     "data": {
      "text/plain": [
       "str"
      ]
     },
     "execution_count": 4,
     "metadata": {},
     "output_type": "execute_result"
    }
   ],
   "source": [
    "type(a)"
   ]
  },
  {
   "cell_type": "code",
   "execution_count": 5,
   "id": "5fbea2bf-9394-4933-99eb-df87518576b0",
   "metadata": {},
   "outputs": [
    {
     "data": {
      "text/plain": [
       "str"
      ]
     },
     "execution_count": 5,
     "metadata": {},
     "output_type": "execute_result"
    }
   ],
   "source": [
    "type(b)"
   ]
  },
  {
   "cell_type": "code",
   "execution_count": 7,
   "id": "19b2efff-c10a-411b-b607-873cab5e45b6",
   "metadata": {},
   "outputs": [
    {
     "data": {
      "text/plain": [
       "True"
      ]
     },
     "execution_count": 7,
     "metadata": {},
     "output_type": "execute_result"
    }
   ],
   "source": [
    "isinstance(a, str)"
   ]
  },
  {
   "cell_type": "code",
   "execution_count": 9,
   "id": "ccf0e29a-149d-4457-ac60-9330ee369104",
   "metadata": {},
   "outputs": [
    {
     "data": {
      "text/plain": [
       "True"
      ]
     },
     "execution_count": 9,
     "metadata": {},
     "output_type": "execute_result"
    }
   ],
   "source": [
    "isinstance(b, str)"
   ]
  },
  {
   "cell_type": "code",
   "execution_count": 10,
   "id": "2fed40b2-d85e-424b-8373-eafcf0035253",
   "metadata": {},
   "outputs": [
    {
     "data": {
      "text/plain": [
       "True"
      ]
     },
     "execution_count": 10,
     "metadata": {},
     "output_type": "execute_result"
    }
   ],
   "source": [
    "type(a)\n",
    "isinstance(a, str)"
   ]
  },
  {
   "cell_type": "code",
   "execution_count": 11,
   "id": "dce320a6-6cbf-41d9-8bcd-401f36c18997",
   "metadata": {},
   "outputs": [
    {
     "name": "stdout",
     "output_type": "stream",
     "text": [
      "hello hi there\n"
     ]
    }
   ],
   "source": [
    "print(a, b)"
   ]
  },
  {
   "cell_type": "code",
   "execution_count": 12,
   "id": "89cf9d01-926d-491d-bb1f-406239b9e383",
   "metadata": {},
   "outputs": [
    {
     "name": "stdout",
     "output_type": "stream",
     "text": [
      "hellohi there\n"
     ]
    }
   ],
   "source": [
    "print(a+b)"
   ]
  },
  {
   "cell_type": "code",
   "execution_count": 13,
   "id": "edc5fac1-14f0-4d63-a6e3-9a8dd8070902",
   "metadata": {},
   "outputs": [
    {
     "name": "stdout",
     "output_type": "stream",
     "text": [
      "hellohellohello\n"
     ]
    }
   ],
   "source": [
    "print(a*3)"
   ]
  },
  {
   "cell_type": "code",
   "execution_count": 17,
   "id": "45f8f57a-d50e-4c87-a5b0-c91b9c20299e",
   "metadata": {},
   "outputs": [
    {
     "name": "stdout",
     "output_type": "stream",
     "text": [
      "hello hello hello hello hello hello hello hello hello hello hello hello hello hello hello hello hello hello hello hello hello hello hello \n"
     ]
    }
   ],
   "source": [
    "print((a+\" \")*23)"
   ]
  },
  {
   "cell_type": "code",
   "execution_count": 20,
   "id": "0008cb73-72f0-4d2b-b794-b39b383d2b04",
   "metadata": {},
   "outputs": [
    {
     "name": "stdout",
     "output_type": "stream",
     "text": [
      "x is 2\n",
      "the type of x is <class 'int'>\n"
     ]
    }
   ],
   "source": [
    "x = 2\n",
    "print('x is',x)\n",
    "print('the type of x is',type(x))"
   ]
  },
  {
   "cell_type": "code",
   "execution_count": 23,
   "id": "9f3aa7fa-3a6d-4616-a055-07ea2bd471e3",
   "metadata": {},
   "outputs": [
    {
     "data": {
      "text/plain": [
       "False"
      ]
     },
     "execution_count": 23,
     "metadata": {},
     "output_type": "execute_result"
    }
   ],
   "source": [
    "isinstance(x, float)"
   ]
  },
  {
   "cell_type": "code",
   "execution_count": 25,
   "id": "df8e3730-51b5-44a0-b82a-432066342d9f",
   "metadata": {},
   "outputs": [
    {
     "name": "stdout",
     "output_type": "stream",
     "text": [
      "z is 3.0\n",
      "type of z is <class 'float'>\n"
     ]
    }
   ],
   "source": [
    "z = 3.\n",
    "print('z is',z)\n",
    "print('type of z is',type(z))"
   ]
  },
  {
   "cell_type": "code",
   "execution_count": 26,
   "id": "47be4660-5983-4838-909f-7b990a58084f",
   "metadata": {},
   "outputs": [
    {
     "data": {
      "text/plain": [
       "True"
      ]
     },
     "execution_count": 26,
     "metadata": {},
     "output_type": "execute_result"
    }
   ],
   "source": [
    "isinstance(z, float)"
   ]
  },
  {
   "cell_type": "code",
   "execution_count": 27,
   "id": "4e8ddd33-1dbd-4a7f-a87a-73bcaca59ae6",
   "metadata": {},
   "outputs": [
    {
     "name": "stdout",
     "output_type": "stream",
     "text": [
      "y is 1.12\n",
      "type of y is <class 'float'>\n"
     ]
    }
   ],
   "source": [
    "y = 1.12\n",
    "print('y is',y)\n",
    "print('type of y is',type(y))"
   ]
  },
  {
   "cell_type": "code",
   "execution_count": 30,
   "id": "c58a9b14-5ff8-4e43-8a4e-d9d355936f24",
   "metadata": {},
   "outputs": [
    {
     "data": {
      "text/plain": [
       "True"
      ]
     },
     "execution_count": 30,
     "metadata": {},
     "output_type": "execute_result"
    }
   ],
   "source": [
    "isinstance(y, float)"
   ]
  },
  {
   "cell_type": "code",
   "execution_count": 35,
   "id": "b6695a6b-7b9a-4aa7-99a4-36c4833d69be",
   "metadata": {},
   "outputs": [
    {
     "data": {
      "text/plain": [
       "8.0"
      ]
     },
     "execution_count": 35,
     "metadata": {},
     "output_type": "execute_result"
    }
   ],
   "source": [
    "x**z "
   ]
  },
  {
   "cell_type": "code",
   "execution_count": 36,
   "id": "dae71f6e-4d6a-4e17-8cf5-4174f9e88c4c",
   "metadata": {},
   "outputs": [
    {
     "data": {
      "text/plain": [
       "200.0"
      ]
     },
     "execution_count": 36,
     "metadata": {},
     "output_type": "execute_result"
    }
   ],
   "source": [
    "0.05 * 4000"
   ]
  },
  {
   "cell_type": "code",
   "execution_count": 47,
   "id": "9e40ec45-7bee-4b29-9a81-f6ca90c5c015",
   "metadata": {},
   "outputs": [
    {
     "name": "stdout",
     "output_type": "stream",
     "text": [
      "x is not equal to 3\n",
      "... and so on ...\n",
      "the if statement is over\n"
     ]
    }
   ],
   "source": [
    "if(x==3):\n",
    "    print('x equals 2')\n",
    "    print('and the if statement is still running')\n",
    "else:\n",
    "    print('x is not equal to 3')\n",
    "    print('... and so on ...')\n",
    "print('the if statement is over')\n",
    "\n"
   ]
  },
  {
   "cell_type": "code",
   "execution_count": 50,
   "id": "888a2881-1c03-4cc6-b148-98ea21233168",
   "metadata": {},
   "outputs": [],
   "source": [
    "def doubleme(x):\n",
    "    print('running doubleme...')\n",
    "    return 2*x"
   ]
  },
  {
   "cell_type": "code",
   "execution_count": 52,
   "id": "e56fcea9-088c-41f2-9a04-22ba4ae4fb03",
   "metadata": {},
   "outputs": [
    {
     "name": "stdout",
     "output_type": "stream",
     "text": [
      "running doubleme...\n",
      "now y is  50\n"
     ]
    }
   ],
   "source": [
    "y = doubleme(25)\n",
    "print('now y is ',y)"
   ]
  },
  {
   "cell_type": "code",
   "execution_count": 10,
   "id": "6a18745c-b917-4cf5-930e-776d0dfb7cbc",
   "metadata": {},
   "outputs": [
    {
     "name": "stdout",
     "output_type": "stream",
     "text": [
      "Help on module homework2:\n",
      "\n",
      "NAME\n",
      "    homework2\n",
      "\n",
      "DESCRIPTION\n",
      "    This homework defines one method, called \"arithmetic\".\n",
      "    that method, type `help homework2.arithmetic`.\n",
      "\n",
      "FUNCTIONS\n",
      "    arithmetic(x, y)\n",
      "        Modify this code so that it performs one of four possible functions, \n",
      "        as specified in the following table:\n",
      "        \n",
      "                            isinstance(x,str)  isinstance(x,float)\n",
      "        isinstance(y,str)   return x+y         return str(x)+y\n",
      "        isinstance(y,float) return x*int(y)    return x*y\n",
      "\n",
      "FILE\n",
      "    c:\\users\\shu\\desktop\\github\\intro_speech_understanding\\lec02\\homework2.py\n",
      "\n",
      "\n"
     ]
    }
   ],
   "source": [
    "import homework2\n",
    "help(homework2)"
   ]
  },
  {
   "cell_type": "code",
   "execution_count": 11,
   "id": "19fc6270-8cb6-4f4c-bcf1-20e594409927",
   "metadata": {},
   "outputs": [
    {
     "name": "stdout",
     "output_type": "stream",
     "text": [
      "now z is 0\n"
     ]
    }
   ],
   "source": [
    "z = homework2.arithmetic(50000, 50000)\n",
    "print('now z is', z)"
   ]
  },
  {
   "cell_type": "code",
   "execution_count": 16,
   "id": "751c58bf-b7f5-45fa-870e-19caa642bd82",
   "metadata": {},
   "outputs": [
    {
     "data": {
      "text/plain": [
       "<module 'homework2' from 'C:\\\\Users\\\\Shu\\\\Desktop\\\\Github\\\\intro_speech_understanding\\\\lec02\\\\homework2.py'>"
      ]
     },
     "execution_count": 16,
     "metadata": {},
     "output_type": "execute_result"
    }
   ],
   "source": [
    "import importlib\n",
    "importlib.reload(homework2)"
   ]
  },
  {
   "cell_type": "code",
   "execution_count": 21,
   "id": "5db4747a-e606-4bca-9ff2-883a4b4d0432",
   "metadata": {},
   "outputs": [
    {
     "name": "stdout",
     "output_type": "stream",
     "text": [
      "6.0\n"
     ]
    }
   ],
   "source": [
    "print(homework2.arithmetic(3.0, 2.0))"
   ]
  },
  {
   "cell_type": "code",
   "execution_count": 22,
   "id": "2c9d3fef-ec7a-4fa4-8df8-cdc87c6643b5",
   "metadata": {},
   "outputs": [
    {
     "name": "stderr",
     "output_type": "stream",
     "text": [
      "....\n",
      "----------------------------------------------------------------------\n",
      "Ran 4 tests in 0.021s\n",
      "\n",
      "OK\n"
     ]
    },
    {
     "name": "stdout",
     "output_type": "stream",
     "text": [
      "4 successes out of 4 tests run\n",
      "Score: 100%\n"
     ]
    },
    {
     "data": {
      "text/plain": [
       "<module 'grade' from 'C:\\\\Users\\\\Shu\\\\Desktop\\\\Github\\\\intro_speech_understanding\\\\lec02\\\\grade.py'>"
      ]
     },
     "execution_count": 22,
     "metadata": {},
     "output_type": "execute_result"
    }
   ],
   "source": [
    "importlib.reload(grade)"
   ]
  },
  {
   "cell_type": "code",
   "execution_count": null,
   "id": "436decad-c7f6-41ef-805c-8152ef732465",
   "metadata": {},
   "outputs": [],
   "source": []
  }
 ],
 "metadata": {
  "kernelspec": {
   "display_name": "Python 3 (ipykernel)",
   "language": "python",
   "name": "python3"
  },
  "language_info": {
   "codemirror_mode": {
    "name": "ipython",
    "version": 3
   },
   "file_extension": ".py",
   "mimetype": "text/x-python",
   "name": "python",
   "nbconvert_exporter": "python",
   "pygments_lexer": "ipython3",
   "version": "3.11.7"
  }
 },
 "nbformat": 4,
 "nbformat_minor": 5
}
